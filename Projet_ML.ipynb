{
  "cells": [
    {
      "cell_type": "markdown",
      "source": [
        "# Projet Final de Machine Learning"
      ],
      "metadata": {
        "id": "vqTqYA_pQRbp"
      }
    },
    {
      "cell_type": "markdown",
      "metadata": {
        "id": "ULAElZFNxEcp"
      },
      "source": [
        "Import des données"
      ]
    },
    {
      "cell_type": "code",
      "execution_count": 4,
      "metadata": {
        "colab": {
          "base_uri": "https://localhost:8080/"
        },
        "id": "cGmhRdinxEcr",
        "outputId": "2817de52-dbd3-4db3-f38b-375b853a671f"
      },
      "outputs": [
        {
          "output_type": "stream",
          "name": "stdout",
          "text": [
            "Looking in indexes: https://pypi.org/simple, https://us-python.pkg.dev/colab-wheels/public/simple/\n",
            "Collecting pyspark\n",
            "  Downloading pyspark-3.4.0.tar.gz (310.8 MB)\n",
            "\u001b[2K     \u001b[90m━━━━━━━━━━━━━━━━━━━━━━━━━━━━━━━━━━━━━━━\u001b[0m \u001b[32m310.8/310.8 MB\u001b[0m \u001b[31m4.3 MB/s\u001b[0m eta \u001b[36m0:00:00\u001b[0m\n",
            "\u001b[?25h  Preparing metadata (setup.py) ... \u001b[?25l\u001b[?25hdone\n",
            "Requirement already satisfied: py4j==0.10.9.7 in /usr/local/lib/python3.9/dist-packages (from pyspark) (0.10.9.7)\n",
            "Building wheels for collected packages: pyspark\n",
            "  Building wheel for pyspark (setup.py) ... \u001b[?25l\u001b[?25hdone\n",
            "  Created wheel for pyspark: filename=pyspark-3.4.0-py2.py3-none-any.whl size=311317145 sha256=d126d553f610247e0be98cf7b0f9f96675094b99e512ad3f1c1c6ddc32f593b7\n",
            "  Stored in directory: /root/.cache/pip/wheels/9f/34/a4/159aa12d0a510d5ff7c8f0220abbea42e5d81ecf588c4fd884\n",
            "Successfully built pyspark\n",
            "Installing collected packages: pyspark\n",
            "Successfully installed pyspark-3.4.0\n"
          ]
        }
      ],
      "source": [
        "!pip install pyspark\n",
        "from pyspark.sql import SparkSession\n",
        "from pyspark.sql.functions import when, lit\n",
        "import seaborn as sns\n",
        "import pandas as pd"
      ]
    },
    {
      "cell_type": "markdown",
      "source": [
        "Import du fichier csv et création du dataframe"
      ],
      "metadata": {
        "id": "hN0yNILFQ4Pn"
      }
    },
    {
      "cell_type": "code",
      "execution_count": 14,
      "metadata": {
        "colab": {
          "base_uri": "https://localhost:8080/",
          "height": 156
        },
        "id": "Is6Nq3JEzPjF",
        "outputId": "8af12af6-2c78-47ae-e988-747d4ae8e082"
      },
      "outputs": [
        {
          "output_type": "display_data",
          "data": {
            "text/plain": [
              "DataFrame[Age: int, Attrition: string, BusinessTravel: string, DailyRate: int, Department: string, DistanceFromHome: int, Education: int, EducationField: string, EmployeeCount: int, EmployeeNumber: int, EnvironmentSatisfaction: int, Gender: string, HourlyRate: int, JobInvolvement: int, JobLevel: int, JobRole: string, JobSatisfaction: int, MaritalStatus: string, MonthlyIncome: int, MonthlyRate: int, NumCompaniesWorked: int, Over18: string, OverTime: string, PercentSalaryHike: int, PerformanceRating: int, RelationshipSatisfaction: int, StandardHours: int, StockOptionLevel: int, TotalWorkingYears: int, TrainingTimesLastYear: int, WorkLifeBalance: int, YearsAtCompany: int, YearsInCurrentRole: int, YearsSinceLastPromotion: int, YearsWithCurrManager: int]"
            ]
          },
          "metadata": {}
        }
      ],
      "source": [
        "from pyspark.sql import SparkSession\n",
        "\n",
        "spark = SparkSession.builder.appName('sample_data/attrition_log_reg').getOrCreate()\n",
        "# File location and type\n",
        "file_location = \"/content/sample_data/HR-Employee-Attrition.csv\"\n",
        "file_type = \"csv\"\n",
        "\n",
        "# CSV options\n",
        "infer_schema = \"true\"\n",
        "first_row_is_header = \"true\"\n",
        "delimiter = \",\"\n",
        "\n",
        "# The applied options are for CSV files. For other file types, these will be ignored.\n",
        "data = spark.read.format(file_type) \\\n",
        "  .option(\"inferSchema\", infer_schema) \\\n",
        "  .option(\"header\", first_row_is_header) \\\n",
        "  .option(\"sep\", delimiter) \\\n",
        "  .load(file_location)\n",
        "\n",
        "display(data)"
      ]
    },
    {
      "cell_type": "code",
      "execution_count": 15,
      "metadata": {
        "colab": {
          "base_uri": "https://localhost:8080/"
        },
        "id": "-OGkGFAGxEct",
        "outputId": "32670c3e-a333-442c-d04a-8a455f08588c"
      },
      "outputs": [
        {
          "output_type": "execute_result",
          "data": {
            "text/plain": [
              "1470"
            ]
          },
          "metadata": {},
          "execution_count": 15
        }
      ],
      "source": [
        "\n",
        "data.cache()  # Cache data for faster reuse\n",
        "data.count()"
      ]
    },
    {
      "cell_type": "markdown",
      "source": [
        "Notre dataframe contient 1470 exemples d'employés."
      ],
      "metadata": {
        "id": "CBZM-ipDTKw1"
      }
    },
    {
      "cell_type": "markdown",
      "metadata": {
        "id": "MFwmPYQzx1ky"
      },
      "source": [
        "Vérifions les colonnes qu'il contient"
      ]
    },
    {
      "cell_type": "code",
      "execution_count": 16,
      "metadata": {
        "colab": {
          "base_uri": "https://localhost:8080/"
        },
        "id": "juHlZZGdxEcu",
        "outputId": "2655ae66-3398-4a95-cd2a-6a418c1038e9"
      },
      "outputs": [
        {
          "output_type": "execute_result",
          "data": {
            "text/plain": [
              "['Age',\n",
              " 'Attrition',\n",
              " 'BusinessTravel',\n",
              " 'DailyRate',\n",
              " 'Department',\n",
              " 'DistanceFromHome',\n",
              " 'Education',\n",
              " 'EducationField',\n",
              " 'EmployeeCount',\n",
              " 'EmployeeNumber',\n",
              " 'EnvironmentSatisfaction',\n",
              " 'Gender',\n",
              " 'HourlyRate',\n",
              " 'JobInvolvement',\n",
              " 'JobLevel',\n",
              " 'JobRole',\n",
              " 'JobSatisfaction',\n",
              " 'MaritalStatus',\n",
              " 'MonthlyIncome',\n",
              " 'MonthlyRate',\n",
              " 'NumCompaniesWorked',\n",
              " 'Over18',\n",
              " 'OverTime',\n",
              " 'PercentSalaryHike',\n",
              " 'PerformanceRating',\n",
              " 'RelationshipSatisfaction',\n",
              " 'StandardHours',\n",
              " 'StockOptionLevel',\n",
              " 'TotalWorkingYears',\n",
              " 'TrainingTimesLastYear',\n",
              " 'WorkLifeBalance',\n",
              " 'YearsAtCompany',\n",
              " 'YearsInCurrentRole',\n",
              " 'YearsSinceLastPromotion',\n",
              " 'YearsWithCurrManager']"
            ]
          },
          "metadata": {},
          "execution_count": 16
        }
      ],
      "source": [
        "data.columns"
      ]
    },
    {
      "cell_type": "markdown",
      "source": [
        "Ensuite, explorons les données pour observer leurs distributions"
      ],
      "metadata": {
        "id": "Et4v4PomTmls"
      }
    },
    {
      "cell_type": "code",
      "execution_count": 17,
      "metadata": {
        "colab": {
          "base_uri": "https://localhost:8080/",
          "height": 1000
        },
        "id": "h03-dr3cxEcu",
        "outputId": "547347e4-ede3-4e39-e8d1-417e1b4b99f4"
      },
      "outputs": [
        {
          "output_type": "execute_result",
          "data": {
            "text/plain": [
              "                              0                   1                    2  \\\n",
              "summary                   count                mean               stddev   \n",
              "Age                        1470  36.923809523809524    9.135373489136729   \n",
              "Attrition                  1470                None                 None   \n",
              "BusinessTravel             1470                None                 None   \n",
              "DailyRate                  1470   802.4857142857143   403.50909994352804   \n",
              "Department                 1470                None                 None   \n",
              "DistanceFromHome           1470    9.19251700680272     8.10686443566608   \n",
              "Education                  1470   2.912925170068027   1.0241649445978718   \n",
              "EducationField             1470                None                 None   \n",
              "EmployeeCount              1470                 1.0                  0.0   \n",
              "EmployeeNumber             1470   1024.865306122449    602.0243348474752   \n",
              "EnvironmentSatisfaction    1470   2.721768707482993   1.0930822146350003   \n",
              "Gender                     1470                None                 None   \n",
              "HourlyRate                 1470   65.89115646258503   20.329427593996176   \n",
              "JobInvolvement             1470  2.7299319727891156   0.7115611429632297   \n",
              "JobLevel                   1470  2.0639455782312925   1.1069398989351202   \n",
              "JobRole                    1470                None                 None   \n",
              "JobSatisfaction            1470  2.7285714285714286   1.1028461230547213   \n",
              "MaritalStatus              1470                None                 None   \n",
              "MonthlyIncome              1470   6502.931292517007    4707.956783097992   \n",
              "MonthlyRate                1470  14313.103401360544    7117.786044059972   \n",
              "NumCompaniesWorked         1470  2.6931972789115646   2.4980090060707463   \n",
              "Over18                     1470                None                 None   \n",
              "OverTime                   1470                None                 None   \n",
              "PercentSalaryHike          1470  15.209523809523809   3.6599377165396385   \n",
              "PerformanceRating          1470  3.1537414965986397  0.36082352460434397   \n",
              "RelationshipSatisfaction   1470  2.7122448979591836   1.0812088864403517   \n",
              "StandardHours              1470                80.0                  0.0   \n",
              "StockOptionLevel           1470  0.7938775510204081   0.8520766679308381   \n",
              "TotalWorkingYears          1470  11.279591836734694    7.780781675514995   \n",
              "TrainingTimesLastYear      1470  2.7993197278911564   1.2892706207958466   \n",
              "WorkLifeBalance            1470  2.7612244897959184   0.7064758297141507   \n",
              "YearsAtCompany             1470  7.0081632653061225    6.126525152403571   \n",
              "YearsInCurrentRole         1470   4.229251700680272    3.623137034670627   \n",
              "YearsSinceLastPromotion    1470  2.1877551020408164   3.2224302791379693   \n",
              "YearsWithCurrManager       1470    4.12312925170068   3.5681361205404363   \n",
              "\n",
              "                                                  3                     4  \n",
              "summary                                         min                   max  \n",
              "Age                                              18                    60  \n",
              "Attrition                                        No                   Yes  \n",
              "BusinessTravel                           Non-Travel         Travel_Rarely  \n",
              "DailyRate                                       102                  1499  \n",
              "Department                          Human Resources                 Sales  \n",
              "DistanceFromHome                                  1                    29  \n",
              "Education                                         1                     5  \n",
              "EducationField                      Human Resources      Technical Degree  \n",
              "EmployeeCount                                     1                     1  \n",
              "EmployeeNumber                                    1                  2068  \n",
              "EnvironmentSatisfaction                           1                     4  \n",
              "Gender                                       Female                  Male  \n",
              "HourlyRate                                       30                   100  \n",
              "JobInvolvement                                    1                     4  \n",
              "JobLevel                                          1                     5  \n",
              "JobRole                   Healthcare Representative  Sales Representative  \n",
              "JobSatisfaction                                   1                     4  \n",
              "MaritalStatus                              Divorced                Single  \n",
              "MonthlyIncome                                  1009                 19999  \n",
              "MonthlyRate                                    2094                 26999  \n",
              "NumCompaniesWorked                                0                     9  \n",
              "Over18                                            Y                     Y  \n",
              "OverTime                                         No                   Yes  \n",
              "PercentSalaryHike                                11                    25  \n",
              "PerformanceRating                                 3                     4  \n",
              "RelationshipSatisfaction                          1                     4  \n",
              "StandardHours                                    80                    80  \n",
              "StockOptionLevel                                  0                     3  \n",
              "TotalWorkingYears                                 0                    40  \n",
              "TrainingTimesLastYear                             0                     6  \n",
              "WorkLifeBalance                                   1                     4  \n",
              "YearsAtCompany                                    0                    40  \n",
              "YearsInCurrentRole                                0                    18  \n",
              "YearsSinceLastPromotion                           0                    15  \n",
              "YearsWithCurrManager                              0                    17  "
            ],
            "text/html": [
              "\n",
              "  <div id=\"df-0592ec35-77bf-4f8d-8f8a-ed7646fa0555\">\n",
              "    <div class=\"colab-df-container\">\n",
              "      <div>\n",
              "<style scoped>\n",
              "    .dataframe tbody tr th:only-of-type {\n",
              "        vertical-align: middle;\n",
              "    }\n",
              "\n",
              "    .dataframe tbody tr th {\n",
              "        vertical-align: top;\n",
              "    }\n",
              "\n",
              "    .dataframe thead th {\n",
              "        text-align: right;\n",
              "    }\n",
              "</style>\n",
              "<table border=\"1\" class=\"dataframe\">\n",
              "  <thead>\n",
              "    <tr style=\"text-align: right;\">\n",
              "      <th></th>\n",
              "      <th>0</th>\n",
              "      <th>1</th>\n",
              "      <th>2</th>\n",
              "      <th>3</th>\n",
              "      <th>4</th>\n",
              "    </tr>\n",
              "  </thead>\n",
              "  <tbody>\n",
              "    <tr>\n",
              "      <th>summary</th>\n",
              "      <td>count</td>\n",
              "      <td>mean</td>\n",
              "      <td>stddev</td>\n",
              "      <td>min</td>\n",
              "      <td>max</td>\n",
              "    </tr>\n",
              "    <tr>\n",
              "      <th>Age</th>\n",
              "      <td>1470</td>\n",
              "      <td>36.923809523809524</td>\n",
              "      <td>9.135373489136729</td>\n",
              "      <td>18</td>\n",
              "      <td>60</td>\n",
              "    </tr>\n",
              "    <tr>\n",
              "      <th>Attrition</th>\n",
              "      <td>1470</td>\n",
              "      <td>None</td>\n",
              "      <td>None</td>\n",
              "      <td>No</td>\n",
              "      <td>Yes</td>\n",
              "    </tr>\n",
              "    <tr>\n",
              "      <th>BusinessTravel</th>\n",
              "      <td>1470</td>\n",
              "      <td>None</td>\n",
              "      <td>None</td>\n",
              "      <td>Non-Travel</td>\n",
              "      <td>Travel_Rarely</td>\n",
              "    </tr>\n",
              "    <tr>\n",
              "      <th>DailyRate</th>\n",
              "      <td>1470</td>\n",
              "      <td>802.4857142857143</td>\n",
              "      <td>403.50909994352804</td>\n",
              "      <td>102</td>\n",
              "      <td>1499</td>\n",
              "    </tr>\n",
              "    <tr>\n",
              "      <th>Department</th>\n",
              "      <td>1470</td>\n",
              "      <td>None</td>\n",
              "      <td>None</td>\n",
              "      <td>Human Resources</td>\n",
              "      <td>Sales</td>\n",
              "    </tr>\n",
              "    <tr>\n",
              "      <th>DistanceFromHome</th>\n",
              "      <td>1470</td>\n",
              "      <td>9.19251700680272</td>\n",
              "      <td>8.10686443566608</td>\n",
              "      <td>1</td>\n",
              "      <td>29</td>\n",
              "    </tr>\n",
              "    <tr>\n",
              "      <th>Education</th>\n",
              "      <td>1470</td>\n",
              "      <td>2.912925170068027</td>\n",
              "      <td>1.0241649445978718</td>\n",
              "      <td>1</td>\n",
              "      <td>5</td>\n",
              "    </tr>\n",
              "    <tr>\n",
              "      <th>EducationField</th>\n",
              "      <td>1470</td>\n",
              "      <td>None</td>\n",
              "      <td>None</td>\n",
              "      <td>Human Resources</td>\n",
              "      <td>Technical Degree</td>\n",
              "    </tr>\n",
              "    <tr>\n",
              "      <th>EmployeeCount</th>\n",
              "      <td>1470</td>\n",
              "      <td>1.0</td>\n",
              "      <td>0.0</td>\n",
              "      <td>1</td>\n",
              "      <td>1</td>\n",
              "    </tr>\n",
              "    <tr>\n",
              "      <th>EmployeeNumber</th>\n",
              "      <td>1470</td>\n",
              "      <td>1024.865306122449</td>\n",
              "      <td>602.0243348474752</td>\n",
              "      <td>1</td>\n",
              "      <td>2068</td>\n",
              "    </tr>\n",
              "    <tr>\n",
              "      <th>EnvironmentSatisfaction</th>\n",
              "      <td>1470</td>\n",
              "      <td>2.721768707482993</td>\n",
              "      <td>1.0930822146350003</td>\n",
              "      <td>1</td>\n",
              "      <td>4</td>\n",
              "    </tr>\n",
              "    <tr>\n",
              "      <th>Gender</th>\n",
              "      <td>1470</td>\n",
              "      <td>None</td>\n",
              "      <td>None</td>\n",
              "      <td>Female</td>\n",
              "      <td>Male</td>\n",
              "    </tr>\n",
              "    <tr>\n",
              "      <th>HourlyRate</th>\n",
              "      <td>1470</td>\n",
              "      <td>65.89115646258503</td>\n",
              "      <td>20.329427593996176</td>\n",
              "      <td>30</td>\n",
              "      <td>100</td>\n",
              "    </tr>\n",
              "    <tr>\n",
              "      <th>JobInvolvement</th>\n",
              "      <td>1470</td>\n",
              "      <td>2.7299319727891156</td>\n",
              "      <td>0.7115611429632297</td>\n",
              "      <td>1</td>\n",
              "      <td>4</td>\n",
              "    </tr>\n",
              "    <tr>\n",
              "      <th>JobLevel</th>\n",
              "      <td>1470</td>\n",
              "      <td>2.0639455782312925</td>\n",
              "      <td>1.1069398989351202</td>\n",
              "      <td>1</td>\n",
              "      <td>5</td>\n",
              "    </tr>\n",
              "    <tr>\n",
              "      <th>JobRole</th>\n",
              "      <td>1470</td>\n",
              "      <td>None</td>\n",
              "      <td>None</td>\n",
              "      <td>Healthcare Representative</td>\n",
              "      <td>Sales Representative</td>\n",
              "    </tr>\n",
              "    <tr>\n",
              "      <th>JobSatisfaction</th>\n",
              "      <td>1470</td>\n",
              "      <td>2.7285714285714286</td>\n",
              "      <td>1.1028461230547213</td>\n",
              "      <td>1</td>\n",
              "      <td>4</td>\n",
              "    </tr>\n",
              "    <tr>\n",
              "      <th>MaritalStatus</th>\n",
              "      <td>1470</td>\n",
              "      <td>None</td>\n",
              "      <td>None</td>\n",
              "      <td>Divorced</td>\n",
              "      <td>Single</td>\n",
              "    </tr>\n",
              "    <tr>\n",
              "      <th>MonthlyIncome</th>\n",
              "      <td>1470</td>\n",
              "      <td>6502.931292517007</td>\n",
              "      <td>4707.956783097992</td>\n",
              "      <td>1009</td>\n",
              "      <td>19999</td>\n",
              "    </tr>\n",
              "    <tr>\n",
              "      <th>MonthlyRate</th>\n",
              "      <td>1470</td>\n",
              "      <td>14313.103401360544</td>\n",
              "      <td>7117.786044059972</td>\n",
              "      <td>2094</td>\n",
              "      <td>26999</td>\n",
              "    </tr>\n",
              "    <tr>\n",
              "      <th>NumCompaniesWorked</th>\n",
              "      <td>1470</td>\n",
              "      <td>2.6931972789115646</td>\n",
              "      <td>2.4980090060707463</td>\n",
              "      <td>0</td>\n",
              "      <td>9</td>\n",
              "    </tr>\n",
              "    <tr>\n",
              "      <th>Over18</th>\n",
              "      <td>1470</td>\n",
              "      <td>None</td>\n",
              "      <td>None</td>\n",
              "      <td>Y</td>\n",
              "      <td>Y</td>\n",
              "    </tr>\n",
              "    <tr>\n",
              "      <th>OverTime</th>\n",
              "      <td>1470</td>\n",
              "      <td>None</td>\n",
              "      <td>None</td>\n",
              "      <td>No</td>\n",
              "      <td>Yes</td>\n",
              "    </tr>\n",
              "    <tr>\n",
              "      <th>PercentSalaryHike</th>\n",
              "      <td>1470</td>\n",
              "      <td>15.209523809523809</td>\n",
              "      <td>3.6599377165396385</td>\n",
              "      <td>11</td>\n",
              "      <td>25</td>\n",
              "    </tr>\n",
              "    <tr>\n",
              "      <th>PerformanceRating</th>\n",
              "      <td>1470</td>\n",
              "      <td>3.1537414965986397</td>\n",
              "      <td>0.36082352460434397</td>\n",
              "      <td>3</td>\n",
              "      <td>4</td>\n",
              "    </tr>\n",
              "    <tr>\n",
              "      <th>RelationshipSatisfaction</th>\n",
              "      <td>1470</td>\n",
              "      <td>2.7122448979591836</td>\n",
              "      <td>1.0812088864403517</td>\n",
              "      <td>1</td>\n",
              "      <td>4</td>\n",
              "    </tr>\n",
              "    <tr>\n",
              "      <th>StandardHours</th>\n",
              "      <td>1470</td>\n",
              "      <td>80.0</td>\n",
              "      <td>0.0</td>\n",
              "      <td>80</td>\n",
              "      <td>80</td>\n",
              "    </tr>\n",
              "    <tr>\n",
              "      <th>StockOptionLevel</th>\n",
              "      <td>1470</td>\n",
              "      <td>0.7938775510204081</td>\n",
              "      <td>0.8520766679308381</td>\n",
              "      <td>0</td>\n",
              "      <td>3</td>\n",
              "    </tr>\n",
              "    <tr>\n",
              "      <th>TotalWorkingYears</th>\n",
              "      <td>1470</td>\n",
              "      <td>11.279591836734694</td>\n",
              "      <td>7.780781675514995</td>\n",
              "      <td>0</td>\n",
              "      <td>40</td>\n",
              "    </tr>\n",
              "    <tr>\n",
              "      <th>TrainingTimesLastYear</th>\n",
              "      <td>1470</td>\n",
              "      <td>2.7993197278911564</td>\n",
              "      <td>1.2892706207958466</td>\n",
              "      <td>0</td>\n",
              "      <td>6</td>\n",
              "    </tr>\n",
              "    <tr>\n",
              "      <th>WorkLifeBalance</th>\n",
              "      <td>1470</td>\n",
              "      <td>2.7612244897959184</td>\n",
              "      <td>0.7064758297141507</td>\n",
              "      <td>1</td>\n",
              "      <td>4</td>\n",
              "    </tr>\n",
              "    <tr>\n",
              "      <th>YearsAtCompany</th>\n",
              "      <td>1470</td>\n",
              "      <td>7.0081632653061225</td>\n",
              "      <td>6.126525152403571</td>\n",
              "      <td>0</td>\n",
              "      <td>40</td>\n",
              "    </tr>\n",
              "    <tr>\n",
              "      <th>YearsInCurrentRole</th>\n",
              "      <td>1470</td>\n",
              "      <td>4.229251700680272</td>\n",
              "      <td>3.623137034670627</td>\n",
              "      <td>0</td>\n",
              "      <td>18</td>\n",
              "    </tr>\n",
              "    <tr>\n",
              "      <th>YearsSinceLastPromotion</th>\n",
              "      <td>1470</td>\n",
              "      <td>2.1877551020408164</td>\n",
              "      <td>3.2224302791379693</td>\n",
              "      <td>0</td>\n",
              "      <td>15</td>\n",
              "    </tr>\n",
              "    <tr>\n",
              "      <th>YearsWithCurrManager</th>\n",
              "      <td>1470</td>\n",
              "      <td>4.12312925170068</td>\n",
              "      <td>3.5681361205404363</td>\n",
              "      <td>0</td>\n",
              "      <td>17</td>\n",
              "    </tr>\n",
              "  </tbody>\n",
              "</table>\n",
              "</div>\n",
              "      <button class=\"colab-df-convert\" onclick=\"convertToInteractive('df-0592ec35-77bf-4f8d-8f8a-ed7646fa0555')\"\n",
              "              title=\"Convert this dataframe to an interactive table.\"\n",
              "              style=\"display:none;\">\n",
              "        \n",
              "  <svg xmlns=\"http://www.w3.org/2000/svg\" height=\"24px\"viewBox=\"0 0 24 24\"\n",
              "       width=\"24px\">\n",
              "    <path d=\"M0 0h24v24H0V0z\" fill=\"none\"/>\n",
              "    <path d=\"M18.56 5.44l.94 2.06.94-2.06 2.06-.94-2.06-.94-.94-2.06-.94 2.06-2.06.94zm-11 1L8.5 8.5l.94-2.06 2.06-.94-2.06-.94L8.5 2.5l-.94 2.06-2.06.94zm10 10l.94 2.06.94-2.06 2.06-.94-2.06-.94-.94-2.06-.94 2.06-2.06.94z\"/><path d=\"M17.41 7.96l-1.37-1.37c-.4-.4-.92-.59-1.43-.59-.52 0-1.04.2-1.43.59L10.3 9.45l-7.72 7.72c-.78.78-.78 2.05 0 2.83L4 21.41c.39.39.9.59 1.41.59.51 0 1.02-.2 1.41-.59l7.78-7.78 2.81-2.81c.8-.78.8-2.07 0-2.86zM5.41 20L4 18.59l7.72-7.72 1.47 1.35L5.41 20z\"/>\n",
              "  </svg>\n",
              "      </button>\n",
              "      \n",
              "  <style>\n",
              "    .colab-df-container {\n",
              "      display:flex;\n",
              "      flex-wrap:wrap;\n",
              "      gap: 12px;\n",
              "    }\n",
              "\n",
              "    .colab-df-convert {\n",
              "      background-color: #E8F0FE;\n",
              "      border: none;\n",
              "      border-radius: 50%;\n",
              "      cursor: pointer;\n",
              "      display: none;\n",
              "      fill: #1967D2;\n",
              "      height: 32px;\n",
              "      padding: 0 0 0 0;\n",
              "      width: 32px;\n",
              "    }\n",
              "\n",
              "    .colab-df-convert:hover {\n",
              "      background-color: #E2EBFA;\n",
              "      box-shadow: 0px 1px 2px rgba(60, 64, 67, 0.3), 0px 1px 3px 1px rgba(60, 64, 67, 0.15);\n",
              "      fill: #174EA6;\n",
              "    }\n",
              "\n",
              "    [theme=dark] .colab-df-convert {\n",
              "      background-color: #3B4455;\n",
              "      fill: #D2E3FC;\n",
              "    }\n",
              "\n",
              "    [theme=dark] .colab-df-convert:hover {\n",
              "      background-color: #434B5C;\n",
              "      box-shadow: 0px 1px 3px 1px rgba(0, 0, 0, 0.15);\n",
              "      filter: drop-shadow(0px 1px 2px rgba(0, 0, 0, 0.3));\n",
              "      fill: #FFFFFF;\n",
              "    }\n",
              "  </style>\n",
              "\n",
              "      <script>\n",
              "        const buttonEl =\n",
              "          document.querySelector('#df-0592ec35-77bf-4f8d-8f8a-ed7646fa0555 button.colab-df-convert');\n",
              "        buttonEl.style.display =\n",
              "          google.colab.kernel.accessAllowed ? 'block' : 'none';\n",
              "\n",
              "        async function convertToInteractive(key) {\n",
              "          const element = document.querySelector('#df-0592ec35-77bf-4f8d-8f8a-ed7646fa0555');\n",
              "          const dataTable =\n",
              "            await google.colab.kernel.invokeFunction('convertToInteractive',\n",
              "                                                     [key], {});\n",
              "          if (!dataTable) return;\n",
              "\n",
              "          const docLinkHtml = 'Like what you see? Visit the ' +\n",
              "            '<a target=\"_blank\" href=https://colab.research.google.com/notebooks/data_table.ipynb>data table notebook</a>'\n",
              "            + ' to learn more about interactive tables.';\n",
              "          element.innerHTML = '';\n",
              "          dataTable['output_type'] = 'display_data';\n",
              "          await google.colab.output.renderOutput(dataTable, element);\n",
              "          const docLink = document.createElement('div');\n",
              "          docLink.innerHTML = docLinkHtml;\n",
              "          element.appendChild(docLink);\n",
              "        }\n",
              "      </script>\n",
              "    </div>\n",
              "  </div>\n",
              "  "
            ]
          },
          "metadata": {},
          "execution_count": 17
        }
      ],
      "source": [
        "data.describe().toPandas().transpose()"
      ]
    },
    {
      "cell_type": "code",
      "execution_count": 18,
      "metadata": {
        "colab": {
          "base_uri": "https://localhost:8080/"
        },
        "id": "uCd75jk1xEcv",
        "outputId": "6e5587f8-790c-4887-b508-30b242d86327"
      },
      "outputs": [
        {
          "output_type": "execute_result",
          "data": {
            "text/plain": [
              "1470"
            ]
          },
          "metadata": {},
          "execution_count": 18
        }
      ],
      "source": [
        "data = data.dropna() \n",
        "data.count()"
      ]
    },
    {
      "cell_type": "markdown",
      "source": [
        "Nous avons donc pas de données nulles"
      ],
      "metadata": {
        "id": "qqnvULRuTyvs"
      }
    },
    {
      "cell_type": "code",
      "execution_count": 19,
      "metadata": {
        "colab": {
          "base_uri": "https://localhost:8080/"
        },
        "id": "REjkMz6IxEcv",
        "outputId": "fbc0ecc1-8b08-4f09-ba13-dfe8a309dbc9"
      },
      "outputs": [
        {
          "output_type": "execute_result",
          "data": {
            "text/plain": [
              "[('Age', 'int'),\n",
              " ('Attrition', 'string'),\n",
              " ('BusinessTravel', 'string'),\n",
              " ('DailyRate', 'int'),\n",
              " ('Department', 'string'),\n",
              " ('DistanceFromHome', 'int'),\n",
              " ('Education', 'int'),\n",
              " ('EducationField', 'string'),\n",
              " ('EmployeeCount', 'int'),\n",
              " ('EmployeeNumber', 'int'),\n",
              " ('EnvironmentSatisfaction', 'int'),\n",
              " ('Gender', 'string'),\n",
              " ('HourlyRate', 'int'),\n",
              " ('JobInvolvement', 'int'),\n",
              " ('JobLevel', 'int'),\n",
              " ('JobRole', 'string'),\n",
              " ('JobSatisfaction', 'int'),\n",
              " ('MaritalStatus', 'string'),\n",
              " ('MonthlyIncome', 'int'),\n",
              " ('MonthlyRate', 'int'),\n",
              " ('NumCompaniesWorked', 'int'),\n",
              " ('Over18', 'string'),\n",
              " ('OverTime', 'string'),\n",
              " ('PercentSalaryHike', 'int'),\n",
              " ('PerformanceRating', 'int'),\n",
              " ('RelationshipSatisfaction', 'int'),\n",
              " ('StandardHours', 'int'),\n",
              " ('StockOptionLevel', 'int'),\n",
              " ('TotalWorkingYears', 'int'),\n",
              " ('TrainingTimesLastYear', 'int'),\n",
              " ('WorkLifeBalance', 'int'),\n",
              " ('YearsAtCompany', 'int'),\n",
              " ('YearsInCurrentRole', 'int'),\n",
              " ('YearsSinceLastPromotion', 'int'),\n",
              " ('YearsWithCurrManager', 'int')]"
            ]
          },
          "metadata": {},
          "execution_count": 19
        }
      ],
      "source": [
        "data.dtypes"
      ]
    },
    {
      "cell_type": "markdown",
      "metadata": {
        "id": "s2JKXWwJxEcw"
      },
      "source": [
        "trouver toutes les colonnes avec des valeurs nulles"
      ]
    },
    {
      "cell_type": "code",
      "execution_count": 20,
      "metadata": {
        "colab": {
          "base_uri": "https://localhost:8080/"
        },
        "id": "i3tu_UmRxEcw",
        "outputId": "5942ba9c-c4df-472e-fb9c-6bc65174c149"
      },
      "outputs": [
        {
          "output_type": "stream",
          "name": "stdout",
          "text": [
            "Age 0\n",
            "Attrition 0\n",
            "BusinessTravel 0\n",
            "DailyRate 0\n",
            "Department 0\n",
            "DistanceFromHome 0\n",
            "Education 0\n",
            "EducationField 0\n",
            "EmployeeCount 0\n",
            "EmployeeNumber 0\n",
            "EnvironmentSatisfaction 0\n",
            "Gender 0\n",
            "HourlyRate 0\n",
            "JobInvolvement 0\n",
            "JobLevel 0\n",
            "JobRole 0\n",
            "JobSatisfaction 0\n",
            "MaritalStatus 0\n",
            "MonthlyIncome 0\n",
            "MonthlyRate 0\n",
            "NumCompaniesWorked 0\n",
            "Over18 0\n",
            "OverTime 0\n",
            "PercentSalaryHike 0\n",
            "PerformanceRating 0\n",
            "RelationshipSatisfaction 0\n",
            "StandardHours 0\n",
            "StockOptionLevel 0\n",
            "TotalWorkingYears 0\n",
            "TrainingTimesLastYear 0\n",
            "WorkLifeBalance 0\n",
            "YearsAtCompany 0\n",
            "YearsInCurrentRole 0\n",
            "YearsSinceLastPromotion 0\n",
            "YearsWithCurrManager 0\n"
          ]
        }
      ],
      "source": [
        "for col in data.columns:\n",
        "    print(col, data.filter(data[col].isNull()).count())"
      ]
    },
    {
      "cell_type": "code",
      "execution_count": 21,
      "metadata": {
        "id": "dBFIwBgjxEcw"
      },
      "outputs": [],
      "source": [
        "data_features= data.select(\"Age\", \"MonthlyIncome\", \"JobRole\", \"TotalWorkingYears\", \"Attrition\")"
      ]
    },
    {
      "cell_type": "code",
      "execution_count": 29,
      "metadata": {
        "colab": {
          "base_uri": "https://localhost:8080/"
        },
        "id": "ArsLHYcnxEcx",
        "outputId": "4c7b618d-5e74-48b6-ded9-605d79891fa2"
      },
      "outputs": [
        {
          "output_type": "stream",
          "name": "stdout",
          "text": [
            "+---+-------------+--------------------+-----------------+---------+\n",
            "|Age|MonthlyIncome|             JobRole|TotalWorkingYears|Attrition|\n",
            "+---+-------------+--------------------+-----------------+---------+\n",
            "| 41|         5993|     Sales Executive|                8|      Yes|\n",
            "| 49|         5130|  Research Scientist|               10|       No|\n",
            "| 37|         2090|Laboratory Techni...|                7|      Yes|\n",
            "| 33|         2909|  Research Scientist|                8|       No|\n",
            "| 27|         3468|Laboratory Techni...|                6|       No|\n",
            "| 32|         3068|Laboratory Techni...|                8|       No|\n",
            "| 59|         2670|Laboratory Techni...|               12|       No|\n",
            "| 30|         2693|Laboratory Techni...|                1|       No|\n",
            "| 38|         9526|Manufacturing Dir...|               10|       No|\n",
            "| 36|         5237|Healthcare Repres...|               17|       No|\n",
            "| 35|         2426|Laboratory Techni...|                6|       No|\n",
            "| 29|         4193|Laboratory Techni...|               10|       No|\n",
            "| 31|         2911|  Research Scientist|                5|       No|\n",
            "| 34|         2661|Laboratory Techni...|                3|       No|\n",
            "| 28|         2028|Laboratory Techni...|                6|      Yes|\n",
            "| 29|         9980|Manufacturing Dir...|               10|       No|\n",
            "| 32|         3298|  Research Scientist|                7|       No|\n",
            "| 22|         2935|Laboratory Techni...|                1|       No|\n",
            "| 53|        15427|             Manager|               31|       No|\n",
            "| 38|         3944|  Research Scientist|                6|       No|\n",
            "+---+-------------+--------------------+-----------------+---------+\n",
            "only showing top 20 rows\n",
            "\n"
          ]
        }
      ],
      "source": [
        "data_features.show()"
      ]
    },
    {
      "cell_type": "code",
      "execution_count": null,
      "metadata": {
        "id": "roWHZRaRxEcx"
      },
      "outputs": [],
      "source": [
        "#correlation_matrix = data.select(\"*\").toPandas().corr()\n",
        "#display(correlation_matrix)"
      ]
    },
    {
      "cell_type": "markdown",
      "source": [
        "C'est important de connaitre les types des colonnes car le modèle ne prend que des valeurs numériques, ce que nous allons vectoriser toutes les colonnes de type string"
      ],
      "metadata": {
        "id": "MohDAvSqUtz-"
      }
    },
    {
      "cell_type": "code",
      "execution_count": null,
      "metadata": {
        "colab": {
          "base_uri": "https://localhost:8080/"
        },
        "id": "F-vaCXlXxEcy",
        "outputId": "c6e061a0-9a94-41e6-e036-54f340c98766"
      },
      "outputs": [
        {
          "output_type": "execute_result",
          "data": {
            "text/plain": [
              "[('Age', 'int'),\n",
              " ('Attrition', 'string'),\n",
              " ('BusinessTravel', 'string'),\n",
              " ('DailyRate', 'int'),\n",
              " ('Department', 'string'),\n",
              " ('DistanceFromHome', 'int'),\n",
              " ('Education', 'int'),\n",
              " ('EducationField', 'string'),\n",
              " ('EmployeeCount', 'int'),\n",
              " ('EmployeeNumber', 'int'),\n",
              " ('EnvironmentSatisfaction', 'int'),\n",
              " ('Gender', 'string'),\n",
              " ('HourlyRate', 'int'),\n",
              " ('JobInvolvement', 'int'),\n",
              " ('JobLevel', 'int'),\n",
              " ('JobRole', 'string'),\n",
              " ('JobSatisfaction', 'int'),\n",
              " ('MaritalStatus', 'string'),\n",
              " ('MonthlyIncome', 'int'),\n",
              " ('MonthlyRate', 'int'),\n",
              " ('NumCompaniesWorked', 'int'),\n",
              " ('Over18', 'string'),\n",
              " ('OverTime', 'string'),\n",
              " ('PercentSalaryHike', 'int'),\n",
              " ('PerformanceRating', 'int'),\n",
              " ('RelationshipSatisfaction', 'int'),\n",
              " ('StandardHours', 'int'),\n",
              " ('StockOptionLevel', 'int'),\n",
              " ('TotalWorkingYears', 'int'),\n",
              " ('TrainingTimesLastYear', 'int'),\n",
              " ('WorkLifeBalance', 'int'),\n",
              " ('YearsAtCompany', 'int'),\n",
              " ('YearsInCurrentRole', 'int'),\n",
              " ('YearsSinceLastPromotion', 'int'),\n",
              " ('YearsWithCurrManager', 'int')]"
            ]
          },
          "metadata": {},
          "execution_count": 141
        }
      ],
      "source": [
        "data.dtypes"
      ]
    },
    {
      "cell_type": "markdown",
      "source": [
        "Nous allons ensuite vectoriser les colonnes et créer un pipeline pour enregistrer tous ses traitements"
      ],
      "metadata": {
        "id": "o40ttL6OVFvi"
      }
    },
    {
      "cell_type": "code",
      "execution_count": 23,
      "metadata": {
        "colab": {
          "base_uri": "https://localhost:8080/"
        },
        "id": "Z10s7iNUxEcy",
        "outputId": "13ba1fc6-c923-47f2-9cf1-8ad450670acf"
      },
      "outputs": [
        {
          "output_type": "stream",
          "name": "stdout",
          "text": [
            "[StringIndexer_cbcadf9d83a3, OneHotEncoder_19bf06a94288, StringIndexer_00dbd87c7452, OneHotEncoder_87623686cd93, StringIndexer_a53b6afad3c4, OneHotEncoder_8643a06db68c, StringIndexer_542949b82cd6, OneHotEncoder_29f59ff70b7f, StringIndexer_677e54091e13, OneHotEncoder_f0d426102cd0, StringIndexer_9676e4b230cd, OneHotEncoder_e3cb4758f723, StringIndexer_86491c29589c, OneHotEncoder_3934b8caf38c]\n"
          ]
        }
      ],
      "source": [
        "from pyspark.ml import Pipeline\n",
        " \n",
        "from pyspark.ml.feature import OneHotEncoder, StringIndexer, VectorAssembler\n",
        "\n",
        "categoricalColumns = [\"JobRole\", \"BusinessTravel\", \"MaritalStatus\", \"EducationField\", \"Gender\", \"Department\", \"OverTime\"]\n",
        "#categoricalColumns = [\"JobRole\"]\n",
        "stages = []\n",
        "\n",
        "for categoricalCol in categoricalColumns:\n",
        "    stringIndexer = StringIndexer(inputCol = categoricalCol, outputCol = categoricalCol + 'Index')\n",
        "    encoder = OneHotEncoder(inputCols=[stringIndexer.getOutputCol()], outputCols=[categoricalCol + \"classVec\"])\n",
        "    stages += [stringIndexer, encoder]\n",
        "print(stages)"
      ]
    },
    {
      "cell_type": "code",
      "execution_count": 24,
      "metadata": {
        "id": "bJ38-4F4xEcy"
      },
      "outputs": [],
      "source": [
        "label_stringIdx = StringIndexer(inputCol = 'Attrition', outputCol = 'label')\n",
        "stages += [label_stringIdx]"
      ]
    },
    {
      "cell_type": "code",
      "execution_count": 25,
      "metadata": {
        "id": "Ocn9FVwoxEcz"
      },
      "outputs": [],
      "source": [
        "numericCols = [\"Age\", \"DailyRate\", \"DistanceFromHome\", \"Education\", \"EmployeeCount\", \"EmployeeNumber\", \"EnvironmentSatisfaction\", \"HourlyRate\", \"JobInvolvement\", \"JobLevel\", \"JobSatisfaction\", \"MonthlyIncome\", \"NumCompaniesWorked\", \"TotalWorkingYears\", \"PercentSalaryHike\", \"PerformanceRating\", \"RelationshipSatisfaction\", \"StandardHours\", \"StockOptionLevel\", \"TrainingTimesLastYear\", \"WorkLifeBalance\", \"YearsAtCompany\", \"YearsInCurrentRole\", \"YearsSinceLastPromotion\", \"YearsWithCurrManager\"]\n",
        "#numericCols = [\"Age\", \"MonthlyIncome\", \"TotalWorkingYears\"]\n",
        "assemblerInputs = [c + \"classVec\" for c in categoricalColumns] + numericCols\n",
        "assembler = VectorAssembler(inputCols=assemblerInputs, outputCol=\"features\")\n",
        "stages += [assembler]"
      ]
    },
    {
      "cell_type": "code",
      "execution_count": 26,
      "metadata": {
        "colab": {
          "base_uri": "https://localhost:8080/"
        },
        "id": "h6mWVJ7pxEcz",
        "outputId": "d00eae7e-4044-4533-817d-b4a34406323b"
      },
      "outputs": [
        {
          "output_type": "stream",
          "name": "stdout",
          "text": [
            "+-----+--------------------+---+---------+----------------+---------+-------------+--------------+-----------------------+----------+--------------+--------+---------------+-------------+------------------+-----------------+-----------------+-----------------+------------------------+-------------+----------------+---------------------+---------------+--------------+------------------+-----------------------+--------------------+\n",
            "|label|            features|Age|DailyRate|DistanceFromHome|Education|EmployeeCount|EmployeeNumber|EnvironmentSatisfaction|HourlyRate|JobInvolvement|JobLevel|JobSatisfaction|MonthlyIncome|NumCompaniesWorked|TotalWorkingYears|PercentSalaryHike|PerformanceRating|RelationshipSatisfaction|StandardHours|StockOptionLevel|TrainingTimesLastYear|WorkLifeBalance|YearsAtCompany|YearsInCurrentRole|YearsSinceLastPromotion|YearsWithCurrManager|\n",
            "+-----+--------------------+---+---------+----------------+---------+-------------+--------------+-----------------------+----------+--------------+--------+---------------+-------------+------------------+-----------------+-----------------+-----------------+------------------------+-------------+----------------+---------------------+---------------+--------------+------------------+-----------------------+--------------------+\n",
            "|  1.0|(46,[0,8,11,12,19...| 41|     1102|               1|        2|            1|             1|                      2|        94|             3|       2|              4|         5993|                 8|                8|               11|                3|                       1|           80|               0|                    0|              1|             6|                 4|                      0|                   5|\n",
            "|  0.0|[0.0,1.0,0.0,0.0,...| 49|      279|               8|        1|            1|             2|                      3|        61|             2|       2|              2|         5130|                 1|               10|               23|                4|                       4|           80|               1|                    3|              3|            10|                 7|                      1|                   7|\n",
            "|  1.0|(46,[2,8,11,16,17...| 37|     1373|               2|        2|            1|             4|                      4|        92|             2|       1|              3|         2090|                 6|                7|               15|                3|                       2|           80|               0|                    3|              3|             0|                 0|                      0|                   0|\n",
            "+-----+--------------------+---+---------+----------------+---------+-------------+--------------+-----------------------+----------+--------------+--------+---------------+-------------+------------------+-----------------+-----------------+-----------------+------------------------+-------------+----------------+---------------------+---------------+--------------+------------------+-----------------------+--------------------+\n",
            "only showing top 3 rows\n",
            "\n"
          ]
        }
      ],
      "source": [
        "pipeline = Pipeline(stages=stages)\n",
        "pipelineModel = pipeline.fit(data)\n",
        "df = pipelineModel.transform(data)\n",
        "selectedcols = [\"label\", \"features\"] + numericCols\n",
        "df = df.select(selectedcols)\n",
        "df.show(3)"
      ]
    },
    {
      "cell_type": "code",
      "execution_count": 30,
      "metadata": {
        "colab": {
          "base_uri": "https://localhost:8080/"
        },
        "id": "OP9FkDUUxEcz",
        "outputId": "35ebc1dc-9668-4886-ea13-dd01bfdc4730"
      },
      "outputs": [
        {
          "output_type": "stream",
          "name": "stdout",
          "text": [
            "+-----+--------------------+---+---------+----------------+---------+-------------+--------------+-----------------------+----------+--------------+--------+---------------+-------------+------------------+-----------------+-----------------+-----------------+------------------------+-------------+----------------+---------------------+---------------+--------------+------------------+-----------------------+--------------------+\n",
            "|label|            features|Age|DailyRate|DistanceFromHome|Education|EmployeeCount|EmployeeNumber|EnvironmentSatisfaction|HourlyRate|JobInvolvement|JobLevel|JobSatisfaction|MonthlyIncome|NumCompaniesWorked|TotalWorkingYears|PercentSalaryHike|PerformanceRating|RelationshipSatisfaction|StandardHours|StockOptionLevel|TrainingTimesLastYear|WorkLifeBalance|YearsAtCompany|YearsInCurrentRole|YearsSinceLastPromotion|YearsWithCurrManager|\n",
            "+-----+--------------------+---+---------+----------------+---------+-------------+--------------+-----------------------+----------+--------------+--------+---------------+-------------+------------------+-----------------+-----------------+-----------------+------------------------+-------------+----------------+---------------------+---------------+--------------+------------------+-----------------------+--------------------+\n",
            "|  1.0|(46,[0,8,11,12,19...| 41|     1102|               1|        2|            1|             1|                      2|        94|             3|       2|              4|         5993|                 8|                8|               11|                3|                       1|           80|               0|                    0|              1|             6|                 4|                      0|                   5|\n",
            "|  0.0|[0.0,1.0,0.0,0.0,...| 49|      279|               8|        1|            1|             2|                      3|        61|             2|       2|              2|         5130|                 1|               10|               23|                4|                       4|           80|               1|                    3|              3|            10|                 7|                      1|                   7|\n",
            "|  1.0|(46,[2,8,11,16,17...| 37|     1373|               2|        2|            1|             4|                      4|        92|             2|       1|              3|         2090|                 6|                7|               15|                3|                       2|           80|               0|                    3|              3|             0|                 0|                      0|                   0|\n",
            "|  0.0|(46,[1,9,10,12,18...| 33|     1392|               3|        4|            1|             5|                      4|        56|             3|       1|              3|         2909|                 1|                8|               11|                3|                       3|           80|               0|                    3|              3|             8|                 7|                      3|                   0|\n",
            "|  0.0|[0.0,0.0,1.0,0.0,...| 27|      591|               2|        1|            1|             7|                      1|        40|             3|       1|              2|         3468|                 9|                6|               12|                3|                       4|           80|               1|                    3|              3|             2|                 2|                      2|                   2|\n",
            "|  0.0|[0.0,0.0,1.0,0.0,...| 32|     1005|               2|        2|            1|             8|                      4|        79|             3|       1|              4|         3068|                 0|                8|               13|                3|                       3|           80|               0|                    2|              2|             7|                 7|                      3|                   6|\n",
            "|  0.0|(46,[2,8,10,13,18...| 59|     1324|               3|        3|            1|            10|                      3|        81|             4|       1|              1|         2670|                 4|               12|               20|                4|                       1|           80|               3|                    3|              2|             1|                 0|                      0|                   0|\n",
            "|  0.0|(46,[2,8,12,17,18...| 30|     1358|              24|        1|            1|            11|                      4|        67|             3|       1|              3|         2693|                 1|                1|               22|                4|                       2|           80|               1|                    2|              3|             1|                 0|                      0|                   0|\n",
            "|  0.0|[0.0,0.0,0.0,1.0,...| 38|      216|              23|        3|            1|            12|                      4|        44|             2|       3|              3|         9526|                 0|               10|               21|                4|                       2|           80|               0|                    2|              3|             9|                 7|                      1|                   8|\n",
            "|  0.0|[0.0,0.0,0.0,0.0,...| 36|     1299|              27|        3|            1|            13|                      3|        94|             3|       2|              3|         5237|                 6|               17|               13|                3|                       2|           80|               2|                    3|              2|             7|                 7|                      7|                   7|\n",
            "|  0.0|[0.0,0.0,1.0,0.0,...| 35|      809|              16|        3|            1|            14|                      1|        84|             4|       1|              2|         2426|                 0|                6|               13|                3|                       3|           80|               1|                    5|              3|             5|                 4|                      0|                   3|\n",
            "|  0.0|(46,[2,8,11,12,18...| 29|      153|              15|        2|            1|            15|                      4|        49|             2|       2|              3|         4193|                 0|               10|               12|                3|                       4|           80|               0|                    3|              3|             9|                 5|                      0|                   8|\n",
            "|  0.0|[0.0,1.0,0.0,0.0,...| 31|      670|              26|        1|            1|            16|                      1|        31|             3|       1|              3|         2911|                 1|                5|               17|                3|                       4|           80|               1|                    1|              2|             5|                 2|                      4|                   3|\n",
            "|  0.0|[0.0,0.0,1.0,0.0,...| 34|     1346|              19|        2|            1|            18|                      2|        93|             3|       1|              4|         2661|                 0|                3|               11|                3|                       3|           80|               1|                    2|              3|             2|                 2|                      1|                   2|\n",
            "|  1.0|(46,[2,8,11,12,17...| 28|      103|              24|        3|            1|            19|                      3|        50|             2|       1|              3|         2028|                 5|                6|               14|                3|                       2|           80|               0|                    4|              3|             4|                 2|                      0|                   3|\n",
            "|  0.0|[0.0,0.0,0.0,1.0,...| 29|     1389|              21|        4|            1|            20|                      2|        51|             4|       3|              1|         9980|                 1|               10|               11|                3|                       3|           80|               1|                    1|              3|            10|                 9|                      8|                   8|\n",
            "|  0.0|(46,[1,8,12,17,18...| 32|      334|               5|        2|            1|            21|                      1|        80|             4|       1|              2|         3298|                 0|                7|               12|                3|                       4|           80|               2|                    5|              2|             6|                 2|                      0|                   5|\n",
            "|  0.0|(46,[2,13,17,18,2...| 22|     1123|              16|        2|            1|            22|                      4|        96|             4|       1|              4|         2935|                 1|                1|               13|                3|                       2|           80|               2|                    2|              2|             1|                 0|                      0|                   0|\n",
            "|  0.0|[0.0,0.0,0.0,0.0,...| 53|     1219|               2|        4|            1|            23|                      1|        78|             2|       4|              4|        15427|                 2|               31|               16|                3|                       3|           80|               0|                    3|              3|            25|                 8|                      3|                   7|\n",
            "|  0.0|[0.0,1.0,0.0,0.0,...| 38|      371|               2|        3|            1|            24|                      4|        45|             3|       1|              4|         3944|                 5|                6|               11|                3|                       3|           80|               0|                    3|              3|             3|                 2|                      1|                   2|\n",
            "+-----+--------------------+---+---------+----------------+---------+-------------+--------------+-----------------------+----------+--------------+--------+---------------+-------------+------------------+-----------------+-----------------+-----------------+------------------------+-------------+----------------+---------------------+---------------+--------------+------------------+-----------------------+--------------------+\n",
            "only showing top 20 rows\n",
            "\n"
          ]
        }
      ],
      "source": [
        "df.show()"
      ]
    },
    {
      "cell_type": "markdown",
      "source": [
        "Nous allons spliter notre dataframe avec 70% des données pour l'entrainement et 30% pour le test."
      ],
      "metadata": {
        "id": "L9gJMjr5Vi7V"
      }
    },
    {
      "cell_type": "code",
      "execution_count": 28,
      "metadata": {
        "colab": {
          "base_uri": "https://localhost:8080/"
        },
        "id": "EhU6lKA3xEc0",
        "outputId": "b622139f-4346-4078-ca7c-26e3a9558a24"
      },
      "outputs": [
        {
          "output_type": "stream",
          "name": "stdout",
          "text": [
            "1041\n",
            "429\n"
          ]
        }
      ],
      "source": [
        "train, test = df.randomSplit([0.7, 0.3], seed=100)\n",
        "print(train.count())\n",
        "print(test.count())"
      ]
    },
    {
      "cell_type": "markdown",
      "source": [
        "Nous allons choisir un des algorithmes de classification les plus connus comme modèle : la LogisticRegression"
      ],
      "metadata": {
        "id": "y0xUcNzmVut4"
      }
    },
    {
      "cell_type": "code",
      "execution_count": 33,
      "metadata": {
        "id": "FgQPlIZFxEc1"
      },
      "outputs": [],
      "source": [
        "# import du modèle\n",
        "from pyspark.ml.classification import LogisticRegression\n",
        "\n",
        "#Implémentation\n",
        "lr = LogisticRegression(labelCol = 'label', featuresCol = 'features', maxIter=10)\n",
        "\n",
        "# entrainement du modèle\n",
        "lrModel = lr.fit(train)"
      ]
    },
    {
      "cell_type": "code",
      "execution_count": 37,
      "metadata": {
        "colab": {
          "base_uri": "https://localhost:8080/"
        },
        "id": "aKvy7GRKxEc1",
        "outputId": "b6b66772-562b-4f2e-c82a-0091a8364df3"
      },
      "outputs": [
        {
          "output_type": "execute_result",
          "data": {
            "text/plain": [
              "[Row(label=0.0, features=SparseVector(46, {0: 1.0, 8: 1.0, 10: 1.0, 13: 1.0, 19: 1.0, 20: 1.0, 21: 35.0, 22: 1219.0, 23: 18.0, 24: 3.0, 25: 1.0, 26: 975.0, 27: 3.0, 28: 86.0, 29: 3.0, 30: 2.0, 31: 3.0, 32: 4601.0, 33: 1.0, 34: 5.0, 35: 16.0, 36: 3.0, 37: 2.0, 38: 80.0, 40: 3.0, 41: 3.0, 42: 5.0, 43: 2.0, 44: 1.0}), Age=35, DailyRate=1219, DistanceFromHome=18, Education=3, EmployeeCount=1, EmployeeNumber=975, EnvironmentSatisfaction=3, HourlyRate=86, JobInvolvement=3, JobLevel=2, JobSatisfaction=3, MonthlyIncome=4601, NumCompaniesWorked=1, TotalWorkingYears=5, PercentSalaryHike=16, PerformanceRating=3, RelationshipSatisfaction=2, StandardHours=80, StockOptionLevel=0, TrainingTimesLastYear=3, WorkLifeBalance=3, YearsAtCompany=5, YearsInCurrentRole=2, YearsSinceLastPromotion=1, YearsWithCurrManager=0, rawPrediction=DenseVector([3.1311, -3.1311]), probability=DenseVector([0.9582, 0.0418]), prediction=0.0)]"
            ]
          },
          "metadata": {},
          "execution_count": 37
        }
      ],
      "source": [
        "# prédiction\n",
        "predictions = lrModel.transform(test)\n",
        "predictions.take(1)"
      ]
    },
    {
      "cell_type": "code",
      "execution_count": 35,
      "metadata": {
        "colab": {
          "base_uri": "https://localhost:8080/"
        },
        "id": "lxoF9mG_xEc2",
        "outputId": "d3cd33c4-419a-4d53-85ba-ad70a6f3792c"
      },
      "outputs": [
        {
          "output_type": "stream",
          "name": "stdout",
          "text": [
            "root\n",
            " |-- label: double (nullable = false)\n",
            " |-- features: vector (nullable = true)\n",
            " |-- Age: integer (nullable = true)\n",
            " |-- DailyRate: integer (nullable = true)\n",
            " |-- DistanceFromHome: integer (nullable = true)\n",
            " |-- Education: integer (nullable = true)\n",
            " |-- EmployeeCount: integer (nullable = true)\n",
            " |-- EmployeeNumber: integer (nullable = true)\n",
            " |-- EnvironmentSatisfaction: integer (nullable = true)\n",
            " |-- HourlyRate: integer (nullable = true)\n",
            " |-- JobInvolvement: integer (nullable = true)\n",
            " |-- JobLevel: integer (nullable = true)\n",
            " |-- JobSatisfaction: integer (nullable = true)\n",
            " |-- MonthlyIncome: integer (nullable = true)\n",
            " |-- NumCompaniesWorked: integer (nullable = true)\n",
            " |-- TotalWorkingYears: integer (nullable = true)\n",
            " |-- PercentSalaryHike: integer (nullable = true)\n",
            " |-- PerformanceRating: integer (nullable = true)\n",
            " |-- RelationshipSatisfaction: integer (nullable = true)\n",
            " |-- StandardHours: integer (nullable = true)\n",
            " |-- StockOptionLevel: integer (nullable = true)\n",
            " |-- TrainingTimesLastYear: integer (nullable = true)\n",
            " |-- WorkLifeBalance: integer (nullable = true)\n",
            " |-- YearsAtCompany: integer (nullable = true)\n",
            " |-- YearsInCurrentRole: integer (nullable = true)\n",
            " |-- YearsSinceLastPromotion: integer (nullable = true)\n",
            " |-- YearsWithCurrManager: integer (nullable = true)\n",
            " |-- rawPrediction: vector (nullable = true)\n",
            " |-- probability: vector (nullable = true)\n",
            " |-- prediction: double (nullable = false)\n",
            "\n"
          ]
        }
      ],
      "source": [
        "predictions.printSchema()"
      ]
    },
    {
      "cell_type": "markdown",
      "source": [
        "Sélectionnons quelques colonnes pour voir les prédictions faites"
      ],
      "metadata": {
        "id": "KGatbgaVW_J6"
      }
    },
    {
      "cell_type": "code",
      "execution_count": 38,
      "metadata": {
        "colab": {
          "base_uri": "https://localhost:8080/",
          "height": 52
        },
        "id": "m6VlNBs4xEc3",
        "outputId": "d51963ba-7631-4ed3-dc58-aa3455aed82c"
      },
      "outputs": [
        {
          "output_type": "display_data",
          "data": {
            "text/plain": [
              "DataFrame[label: double, age: int, MonthlyIncome: int, TotalWorkingYears: int, prediction: double, probability: vector]"
            ]
          },
          "metadata": {}
        }
      ],
      "source": [
        "selected = predictions.select(\"label\", \"age\", \"MonthlyIncome\", \"TotalWorkingYears\", \"prediction\", \"probability\")\n",
        "display(selected)"
      ]
    },
    {
      "cell_type": "code",
      "execution_count": 39,
      "metadata": {
        "colab": {
          "base_uri": "https://localhost:8080/"
        },
        "id": "W1jb6tCNxEc3",
        "outputId": "44c3a9ca-bbf3-4fba-a0f7-b04fbf65e9b7"
      },
      "outputs": [
        {
          "output_type": "stream",
          "name": "stdout",
          "text": [
            "+-----+---+-------------+-----------------+----------+--------------------+\n",
            "|label|age|MonthlyIncome|TotalWorkingYears|prediction|         probability|\n",
            "+-----+---+-------------+-----------------+----------+--------------------+\n",
            "|  0.0| 35|         4601|                5|       0.0|[0.95815801141235...|\n",
            "|  0.0| 53|        10934|               35|       0.0|[0.94176420761724...|\n",
            "|  0.0| 27|         5769|                6|       0.0|[0.71427175616604...|\n",
            "|  0.0| 32|         5228|               13|       1.0|[0.34129765185840...|\n",
            "+-----+---+-------------+-----------------+----------+--------------------+\n",
            "only showing top 4 rows\n",
            "\n"
          ]
        }
      ],
      "source": [
        "selected.show(4)"
      ]
    },
    {
      "cell_type": "markdown",
      "source": [
        "Maintenant, nous allons évaluer notre modèle en utilisant BinaryClassificationEvaluator"
      ],
      "metadata": {
        "id": "Wq4N3efTXJMM"
      }
    },
    {
      "cell_type": "code",
      "execution_count": 40,
      "metadata": {
        "colab": {
          "base_uri": "https://localhost:8080/"
        },
        "id": "nlZYXFiDxEc4",
        "outputId": "0a89af46-9c5a-4d52-88e2-e1db023d6cc7"
      },
      "outputs": [
        {
          "output_type": "stream",
          "name": "stdout",
          "text": [
            "Area Under ROC 0.8233575423658072\n"
          ]
        }
      ],
      "source": [
        "from pyspark.ml.evaluation import BinaryClassificationEvaluator\n",
        "\n",
        "evaluator = BinaryClassificationEvaluator(rawPredictionCol=\"rawPrediction\")\n",
        "print('Area Under ROC', evaluator.evaluate(predictions))"
      ]
    },
    {
      "cell_type": "code",
      "execution_count": 41,
      "metadata": {
        "colab": {
          "base_uri": "https://localhost:8080/",
          "height": 35
        },
        "id": "cfpMTfU1xEc4",
        "outputId": "95b27374-7c40-418f-f8c5-a53906aa416d"
      },
      "outputs": [
        {
          "output_type": "execute_result",
          "data": {
            "text/plain": [
              "'areaUnderROC'"
            ],
            "application/vnd.google.colaboratory.intrinsic+json": {
              "type": "string"
            }
          },
          "metadata": {},
          "execution_count": 41
        }
      ],
      "source": [
        "evaluator.getMetricName()"
      ]
    },
    {
      "cell_type": "markdown",
      "source": [
        "Essayons la crossvalidation"
      ],
      "metadata": {
        "id": "TLkgeWcRXXKn"
      }
    },
    {
      "cell_type": "code",
      "execution_count": 42,
      "metadata": {
        "id": "ogJYuG8uxEc5"
      },
      "outputs": [],
      "source": [
        "from pyspark.ml.tuning import ParamGridBuilder, CrossValidator\n",
        "\n",
        "# Create ParamGrid for Cross Validation\n",
        "paramGrid = (ParamGridBuilder()\n",
        "             .addGrid(lr.regParam, [0.01, 0.5, 2.0])\n",
        "             .addGrid(lr.elasticNetParam, [0.0, 0.5, 1.0])\n",
        "             .addGrid(lr.maxIter, [1, 5, 10])\n",
        "             .build())"
      ]
    },
    {
      "cell_type": "code",
      "execution_count": 43,
      "metadata": {
        "colab": {
          "base_uri": "https://localhost:8080/"
        },
        "id": "4b5lMeGFxEc5",
        "outputId": "f16a8687-a499-40f2-bf4c-ed6f217dddcf"
      },
      "outputs": [
        {
          "output_type": "stream",
          "name": "stdout",
          "text": [
            "[CrossValidator_d9628efe7b52, CrossValidator_a35c80c511d5, CrossValidator_b57b42c0887f, CrossValidator_c169e6a5083a, CrossValidator_fc5e062368ff]\n"
          ]
        }
      ],
      "source": [
        "l=[]\n",
        "for numFold in range(1,6):\n",
        "    cv = CrossValidator(estimator=lr, estimatorParamMaps=paramGrid, evaluator=evaluator, numFolds=numFold)\n",
        "    l.append(cv)\n",
        "print(l)\n",
        "\n",
        "\n",
        "# Run cross validations\n",
        "#cvModel1 = l[1].fit(train)\n",
        "cvModel2 = l[2].fit(train)\n",
        "#cvModel3 = l[3].fit(train)\n"
      ]
    },
    {
      "cell_type": "code",
      "execution_count": 44,
      "metadata": {
        "colab": {
          "base_uri": "https://localhost:8080/"
        },
        "id": "hGFQkKwixEc5",
        "outputId": "e15b9f4f-57ad-452c-914e-20ff2decb458"
      },
      "outputs": [
        {
          "output_type": "stream",
          "name": "stdout",
          "text": [
            "Area Under ROC 0.8250688705234156\n"
          ]
        }
      ],
      "source": [
        "predictions = cvModel2.transform(test)\n",
        "print('Area Under ROC', evaluator.evaluate(predictions))"
      ]
    },
    {
      "cell_type": "markdown",
      "source": [
        "Nous obtenons donc un score de 82% pour notre modèle de LogisticRegression. Cependant, il existe des modèles beaucoup plus puissants comme Random Forest qui rassemble 2 algorithmes : les arbres de décision et l'ensemble learning pour choisir le meilleur arbre. Nous allons tester cela."
      ],
      "metadata": {
        "id": "hxXLbpraX4ja"
      }
    },
    {
      "cell_type": "markdown",
      "metadata": {
        "id": "gm2-Ywg2xEc5"
      },
      "source": [
        "Random Forest"
      ]
    },
    {
      "cell_type": "code",
      "execution_count": 45,
      "metadata": {
        "colab": {
          "base_uri": "https://localhost:8080/"
        },
        "id": "HssH5iwxxEc6",
        "outputId": "909e0bec-b762-4915-e213-83f05e127391"
      },
      "outputs": [
        {
          "output_type": "stream",
          "name": "stdout",
          "text": [
            "root\n",
            " |-- label: double (nullable = false)\n",
            " |-- features: vector (nullable = true)\n",
            " |-- Age: integer (nullable = true)\n",
            " |-- DailyRate: integer (nullable = true)\n",
            " |-- DistanceFromHome: integer (nullable = true)\n",
            " |-- Education: integer (nullable = true)\n",
            " |-- EmployeeCount: integer (nullable = true)\n",
            " |-- EmployeeNumber: integer (nullable = true)\n",
            " |-- EnvironmentSatisfaction: integer (nullable = true)\n",
            " |-- HourlyRate: integer (nullable = true)\n",
            " |-- JobInvolvement: integer (nullable = true)\n",
            " |-- JobLevel: integer (nullable = true)\n",
            " |-- JobSatisfaction: integer (nullable = true)\n",
            " |-- MonthlyIncome: integer (nullable = true)\n",
            " |-- NumCompaniesWorked: integer (nullable = true)\n",
            " |-- TotalWorkingYears: integer (nullable = true)\n",
            " |-- PercentSalaryHike: integer (nullable = true)\n",
            " |-- PerformanceRating: integer (nullable = true)\n",
            " |-- RelationshipSatisfaction: integer (nullable = true)\n",
            " |-- StandardHours: integer (nullable = true)\n",
            " |-- StockOptionLevel: integer (nullable = true)\n",
            " |-- TrainingTimesLastYear: integer (nullable = true)\n",
            " |-- WorkLifeBalance: integer (nullable = true)\n",
            " |-- YearsAtCompany: integer (nullable = true)\n",
            " |-- YearsInCurrentRole: integer (nullable = true)\n",
            " |-- YearsSinceLastPromotion: integer (nullable = true)\n",
            " |-- YearsWithCurrManager: integer (nullable = true)\n",
            " |-- rawPrediction: vector (nullable = true)\n",
            " |-- probability: vector (nullable = true)\n",
            " |-- prediction: double (nullable = false)\n",
            "\n"
          ]
        }
      ],
      "source": [
        "from pyspark.ml.classification import RandomForestClassifier\n",
        "\n",
        "rf = RandomForestClassifier(featuresCol = 'features', labelCol = 'label')\n",
        "rfModel = rf.fit(train)\n",
        "predictions = rfModel.transform(test)\n",
        "predictions.printSchema()"
      ]
    },
    {
      "cell_type": "code",
      "execution_count": 46,
      "metadata": {
        "colab": {
          "base_uri": "https://localhost:8080/",
          "height": 52
        },
        "id": "Um54o-gqxEc6",
        "outputId": "f6add07e-9dc4-43f4-b5ea-9b372b693cbb"
      },
      "outputs": [
        {
          "output_type": "display_data",
          "data": {
            "text/plain": [
              "DataFrame[label: double, prediction: double, probability: vector, Age: int, MonthlyIncome: int, TotalWorkingYears: int]"
            ]
          },
          "metadata": {}
        }
      ],
      "source": [
        "selected = predictions.select(\"label\", \"prediction\", \"probability\", \"Age\", \"MonthlyIncome\", \"TotalWorkingYears\")\n",
        "display(selected)"
      ]
    },
    {
      "cell_type": "code",
      "execution_count": 47,
      "metadata": {
        "colab": {
          "base_uri": "https://localhost:8080/"
        },
        "id": "6iHl_AnMxEc6",
        "outputId": "f1ca3b30-5a68-4adc-e4d1-0d27bb6417a2"
      },
      "outputs": [
        {
          "output_type": "execute_result",
          "data": {
            "text/plain": [
              "0.781576091493447"
            ]
          },
          "metadata": {},
          "execution_count": 47
        }
      ],
      "source": [
        "evaluator = BinaryClassificationEvaluator()\n",
        "evaluator.evaluate(predictions)"
      ]
    },
    {
      "cell_type": "code",
      "execution_count": 48,
      "metadata": {
        "id": "axrztpUFxEc7"
      },
      "outputs": [],
      "source": [
        "paramGrid = (ParamGridBuilder()\n",
        "             .addGrid(rf.maxDepth, [2, 4, 6])\n",
        "             .addGrid(rf.maxBins, [20, 60])\n",
        "             .addGrid(rf.numTrees, [5, 20])\n",
        "             .build())\n",
        "\n",
        "# Create 5-fold CrossValidator\n",
        "cv = CrossValidator(estimator=rf, estimatorParamMaps=paramGrid, evaluator=evaluator, numFolds=5)\n",
        "\n",
        "# Run cross validations.  This can take about 6 minutes since it is training over 20 trees!\n",
        "cvModel = cv.fit(train)"
      ]
    },
    {
      "cell_type": "code",
      "execution_count": 49,
      "metadata": {
        "id": "g_D8nTZJxEc7",
        "colab": {
          "base_uri": "https://localhost:8080/"
        },
        "outputId": "37970308-af4a-4928-9d10-26ab97772773"
      },
      "outputs": [
        {
          "output_type": "execute_result",
          "data": {
            "text/plain": [
              "0.7677393772435085"
            ]
          },
          "metadata": {},
          "execution_count": 49
        }
      ],
      "source": [
        "predictions = cvModel.transform(test)\n",
        "evaluator.evaluate(predictions)"
      ]
    },
    {
      "cell_type": "code",
      "execution_count": 50,
      "metadata": {
        "id": "LVVWEM_7xEc7",
        "colab": {
          "base_uri": "https://localhost:8080/",
          "height": 52
        },
        "outputId": "c519a2a0-dbe0-40c3-da24-c4ff4544e3e3"
      },
      "outputs": [
        {
          "output_type": "display_data",
          "data": {
            "text/plain": [
              "DataFrame[label: double, prediction: double, probability: vector, Age: int, MonthlyIncome: int, TotalWorkingYears: int]"
            ]
          },
          "metadata": {}
        }
      ],
      "source": [
        "selected = predictions.select(\"label\", \"prediction\", \"probability\", \"Age\", \"MonthlyIncome\", \"TotalWorkingYears\")\n",
        "display(selected)"
      ]
    },
    {
      "cell_type": "code",
      "execution_count": 51,
      "metadata": {
        "id": "cGwRT7EpxEc8",
        "colab": {
          "base_uri": "https://localhost:8080/"
        },
        "outputId": "f23b16ad-b141-499d-8047-096874c5d17c"
      },
      "outputs": [
        {
          "output_type": "execute_result",
          "data": {
            "text/plain": [
              "0.915084815944086"
            ]
          },
          "metadata": {},
          "execution_count": 51
        }
      ],
      "source": [
        "bestModel = cvModel.bestModel\n",
        "final_predictions = bestModel.transform(df)\n",
        "evaluator.evaluate(final_predictions)\n",
        "#bestModel"
      ]
    },
    {
      "cell_type": "markdown",
      "source": [
        "Nous obtenons un score de 92% avec notre bestModel qui est beaucoup meilleur que le modèle précédent. Nous allons donc conserver celui là."
      ],
      "metadata": {
        "id": "sZDfZuXmZOb5"
      }
    },
    {
      "cell_type": "code",
      "execution_count": 52,
      "metadata": {
        "id": "iubNSEQixEdA"
      },
      "outputs": [],
      "source": [
        "# Enregistrons notre modèle\n",
        "bestModel.save(\"best_Model\")"
      ]
    },
    {
      "cell_type": "code",
      "execution_count": 55,
      "metadata": {
        "id": "VQxX2FLbxEdA",
        "colab": {
          "base_uri": "https://localhost:8080/"
        },
        "outputId": "51abecf4-f9f9-4dde-8f55-d9ba5f5c32e1"
      },
      "outputs": [
        {
          "output_type": "stream",
          "name": "stdout",
          "text": [
            "Looking in indexes: https://pypi.org/simple, https://us-python.pkg.dev/colab-wheels/public/simple/\n",
            "Collecting pytest-shutil\n",
            "  Downloading pytest_shutil-1.7.0-py2.py3-none-any.whl (15 kB)\n",
            "Collecting mock\n",
            "  Downloading mock-5.0.2-py3-none-any.whl (30 kB)\n",
            "Requirement already satisfied: pytest in /usr/local/lib/python3.9/dist-packages (from pytest-shutil) (7.2.2)\n",
            "Collecting path.py\n",
            "  Downloading path.py-12.5.0-py3-none-any.whl (2.3 kB)\n",
            "Requirement already satisfied: six in /usr/local/lib/python3.9/dist-packages (from pytest-shutil) (1.16.0)\n",
            "Collecting execnet\n",
            "  Downloading execnet-1.9.0-py2.py3-none-any.whl (39 kB)\n",
            "Requirement already satisfied: termcolor in /usr/local/lib/python3.9/dist-packages (from pytest-shutil) (2.2.0)\n",
            "Requirement already satisfied: contextlib2 in /usr/local/lib/python3.9/dist-packages (from pytest-shutil) (0.6.0.post1)\n",
            "Collecting path\n",
            "  Downloading path-16.6.0-py3-none-any.whl (26 kB)\n",
            "Requirement already satisfied: attrs>=19.2.0 in /usr/local/lib/python3.9/dist-packages (from pytest->pytest-shutil) (23.1.0)\n",
            "Requirement already satisfied: tomli>=1.0.0 in /usr/local/lib/python3.9/dist-packages (from pytest->pytest-shutil) (2.0.1)\n",
            "Requirement already satisfied: exceptiongroup>=1.0.0rc8 in /usr/local/lib/python3.9/dist-packages (from pytest->pytest-shutil) (1.1.1)\n",
            "Requirement already satisfied: iniconfig in /usr/local/lib/python3.9/dist-packages (from pytest->pytest-shutil) (2.0.0)\n",
            "Requirement already satisfied: pluggy<2.0,>=0.12 in /usr/local/lib/python3.9/dist-packages (from pytest->pytest-shutil) (1.0.0)\n",
            "Requirement already satisfied: packaging in /usr/local/lib/python3.9/dist-packages (from pytest->pytest-shutil) (23.1)\n",
            "Installing collected packages: path, mock, execnet, path.py, pytest-shutil\n",
            "Successfully installed execnet-1.9.0 mock-5.0.2 path-16.6.0 path.py-12.5.0 pytest-shutil-1.7.0\n"
          ]
        }
      ],
      "source": [
        "# install du module pytest-shutil pour zipper notre modèle\n",
        "!pip install pytest-shutil"
      ]
    },
    {
      "cell_type": "code",
      "source": [
        "import shutil\n",
        "shutil.make_archive('best_Model', 'zip', '/content/best_Model')"
      ],
      "metadata": {
        "id": "gFbhN9Jy4gZw",
        "colab": {
          "base_uri": "https://localhost:8080/",
          "height": 35
        },
        "outputId": "51842ddd-ada9-40df-c7f8-34d81d4212a9"
      },
      "execution_count": 56,
      "outputs": [
        {
          "output_type": "execute_result",
          "data": {
            "text/plain": [
              "'/content/best_Model.zip'"
            ],
            "application/vnd.google.colaboratory.intrinsic+json": {
              "type": "string"
            }
          },
          "metadata": {},
          "execution_count": 56
        }
      ]
    },
    {
      "cell_type": "markdown",
      "source": [
        "Nous enregistrons notre modèle pour le déployer et le tester via un api."
      ],
      "metadata": {
        "id": "GwJOM1x4aBG8"
      }
    }
  ],
  "metadata": {
    "application/vnd.databricks.v1+notebook": {
      "dashboards": [],
      "language": "python",
      "notebookMetadata": {
        "mostRecentlyExecutedCommandWithImplicitDF": {
          "commandId": 3799490060829571,
          "dataframes": [
            "_sqldf"
          ]
        },
        "pythonIndentUnit": 4
      },
      "notebookName": "Projet_ML",
      "notebookOrigID": 3799490060829570,
      "widgets": {}
    },
    "colab": {
      "provenance": []
    },
    "gpuClass": "standard",
    "kernelspec": {
      "display_name": "Python 3",
      "name": "python3"
    },
    "language_info": {
      "name": "python"
    }
  },
  "nbformat": 4,
  "nbformat_minor": 0
}